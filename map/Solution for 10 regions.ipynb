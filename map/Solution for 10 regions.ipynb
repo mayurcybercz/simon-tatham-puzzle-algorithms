{
 "cells": [
  {
   "cell_type": "markdown",
   "metadata": {},
   "source": [
    "[Download here](https://www.chiark.greenend.org.uk/~sgtatham/puzzles/)"
   ]
  },
  {
   "cell_type": "markdown",
   "metadata": {},
   "source": [
    "![Image not Loaded](1.png \"Map Puzzle\")"
   ]
  },
  {
   "cell_type": "markdown",
   "metadata": {},
   "source": [
    "name is the name of the node in graph \n",
    "\n",
    "status is either unfilled or filled {0:unfilled,1:filled} \n",
    "\n",
    "color is the color of node {LB:0,DB:1,DG:2,DY:3} and NULL for empty \n",
    "\n",
    "neighbours are all the filled/unfilled neighbours to which node is connected"
   ]
  },
  {
   "cell_type": "code",
   "execution_count": 3,
   "metadata": {},
   "outputs": [],
   "source": [
    "class Node:\n",
    "    def __init__(self,name,status,color,neighbours):\n",
    "        self.node_name=name\n",
    "        self.node_status=status\n",
    "        self.node_color=color\n",
    "        self.node_neighbours=neighbours\n",
    "        \n",
    "    def update_status(self,updated_status):\n",
    "        self.node_status=updated_status\n",
    "        \n",
    "    def update_color(self,updated_color):\n",
    "        self.node_color=updated_color\n",
    "        \n",
    "    def print_name(self):\n",
    "        return self.node_name\n",
    "        \n",
    "    def print_color(self):\n",
    "        color_switch={0:\"LB\",1:\"DB\",2:\"DG\",3:\"DY\"}\n",
    "        func=color_switch.get(self.node_color,lambda:\"Invalid Color\")\n",
    "        return func"
   ]
  },
  {
   "cell_type": "code",
   "execution_count": 4,
   "metadata": {},
   "outputs": [],
   "source": [
    "node0=Node(0,0,None,[1,4,5])\n",
    "node1=Node(1,1,1,[2,3,4])\n",
    "node2=Node(2,1,3,[1,3,7,8])\n",
    "node3=Node(3,1,0,[1,2,4,6,7])\n",
    "node4=Node(4,1,3,[0,1,3,6])\n",
    "node5=Node(5,1,2,[0,6,9])\n",
    "node6=Node(6,0,None,[0,3,4,5,7,9])\n",
    "node7=Node(7,0,None,[2,3,6,8])\n",
    "node8=Node(8,1,1,[2,7])\n",
    "node9=Node(9,1,3,[5,6])"
   ]
  },
  {
   "cell_type": "code",
   "execution_count": 5,
   "metadata": {},
   "outputs": [],
   "source": [
    "Color_Map={0:node0,1:node1,2:node2,3:node3,4:node4,5:node5,6:node6,7:node7,8:node8,9:node9}\n"
   ]
  },
  {
   "cell_type": "code",
   "execution_count": 6,
   "metadata": {},
   "outputs": [
    {
     "name": "stdout",
     "output_type": "stream",
     "text": [
      "0 is unfilled\n",
      "6 is unfilled\n",
      "7 is unfilled\n"
     ]
    }
   ],
   "source": [
    "for node in Color_Map.values():\n",
    "    if node.node_status==0:\n",
    "        print(str(node.node_name )+ \" is unfilled\")"
   ]
  },
  {
   "cell_type": "code",
   "execution_count": 7,
   "metadata": {},
   "outputs": [
    {
     "name": "stdout",
     "output_type": "stream",
     "text": [
      "[1, 4, 5]\n"
     ]
    }
   ],
   "source": [
    "neighbours=[Color_Map[neighbour].print_name() for neighbour in node0.node_neighbours]\n",
    "print(neighbours)"
   ]
  },
  {
   "cell_type": "code",
   "execution_count": 8,
   "metadata": {},
   "outputs": [],
   "source": [
    "def find_valid_color(Node):\n",
    "    color_set={0,1,2,3}\n",
    "    neighbours=[Color_Map[neighbour] for neighbour in Node.node_neighbours]\n",
    "    for neighbour_node in neighbours:\n",
    "        if neighbour_node.node_color in color_set:\n",
    "            print(\"neighbour \"+ str(neighbour_node.node_name)+ \" have color \" +str(neighbour_node.print_color()))\n",
    "            color_set.remove(neighbour_node.node_color)\n",
    "    return color_set"
   ]
  },
  {
   "cell_type": "code",
   "execution_count": 9,
   "metadata": {},
   "outputs": [
    {
     "name": "stdout",
     "output_type": "stream",
     "text": [
      "neighbour 1 have color DB\n",
      "neighbour 4 have color DY\n",
      "neighbour 5 have color DG\n"
     ]
    },
    {
     "data": {
      "text/plain": [
       "{0}"
      ]
     },
     "execution_count": 9,
     "metadata": {},
     "output_type": "execute_result"
    }
   ],
   "source": [
    "find_valid_color(node0)"
   ]
  },
  {
   "cell_type": "code",
   "execution_count": 10,
   "metadata": {},
   "outputs": [
    {
     "name": "stdout",
     "output_type": "stream",
     "text": [
      "neighbour 3 have color LB\n",
      "neighbour 4 have color DY\n",
      "neighbour 5 have color DG\n"
     ]
    },
    {
     "data": {
      "text/plain": [
       "{1}"
      ]
     },
     "execution_count": 10,
     "metadata": {},
     "output_type": "execute_result"
    }
   ],
   "source": [
    "find_valid_color(node6)"
   ]
  },
  {
   "cell_type": "code",
   "execution_count": 11,
   "metadata": {},
   "outputs": [
    {
     "name": "stdout",
     "output_type": "stream",
     "text": [
      "neighbour 2 have color DY\n",
      "neighbour 3 have color LB\n",
      "neighbour 8 have color DB\n"
     ]
    },
    {
     "data": {
      "text/plain": [
       "{2}"
      ]
     },
     "execution_count": 11,
     "metadata": {},
     "output_type": "execute_result"
    }
   ],
   "source": [
    "find_valid_color(node7)"
   ]
  },
  {
   "cell_type": "code",
   "execution_count": 12,
   "metadata": {},
   "outputs": [],
   "source": [
    "def coloring_epoch():\n",
    "    \n",
    "    for node in Color_Map.values():\n",
    "        if node.node_status==0:\n",
    "            for neighbour in node.node_neighbours:\n",
    "                print(Color_Map[neighbour])\n",
    "            \n",
    "            \n",
    "            \n",
    "    "
   ]
  },
  {
   "cell_type": "code",
   "execution_count": 13,
   "metadata": {},
   "outputs": [
    {
     "name": "stdout",
     "output_type": "stream",
     "text": [
      "<__main__.Node object at 0x000001AE36DAF5C0>\n",
      "<__main__.Node object at 0x000001AE36DAF6A0>\n",
      "<__main__.Node object at 0x000001AE36DAF6D8>\n",
      "<__main__.Node object at 0x000001AE36DAF5F8>\n",
      "<__main__.Node object at 0x000001AE36DAF668>\n",
      "<__main__.Node object at 0x000001AE36DAF6A0>\n",
      "<__main__.Node object at 0x000001AE36DAF6D8>\n",
      "<__main__.Node object at 0x000001AE36DAF748>\n",
      "<__main__.Node object at 0x000001AE36DAF7F0>\n",
      "<__main__.Node object at 0x000001AE36DAF630>\n",
      "<__main__.Node object at 0x000001AE36DAF668>\n",
      "<__main__.Node object at 0x000001AE36DAF710>\n",
      "<__main__.Node object at 0x000001AE36DAF780>\n"
     ]
    }
   ],
   "source": [
    "coloring_epoch()"
   ]
  },
  {
   "cell_type": "markdown",
   "metadata": {},
   "source": [
    "![Image not Loaded](2.png \"Map Puzzle\")"
   ]
  },
  {
   "cell_type": "code",
   "execution_count": null,
   "metadata": {},
   "outputs": [],
   "source": []
  }
 ],
 "metadata": {
  "kernelspec": {
   "display_name": "Python 3",
   "language": "python",
   "name": "python3"
  },
  "language_info": {
   "codemirror_mode": {
    "name": "ipython",
    "version": 3
   },
   "file_extension": ".py",
   "mimetype": "text/x-python",
   "name": "python",
   "nbconvert_exporter": "python",
   "pygments_lexer": "ipython3",
   "version": "3.6.4"
  }
 },
 "nbformat": 4,
 "nbformat_minor": 2
}
